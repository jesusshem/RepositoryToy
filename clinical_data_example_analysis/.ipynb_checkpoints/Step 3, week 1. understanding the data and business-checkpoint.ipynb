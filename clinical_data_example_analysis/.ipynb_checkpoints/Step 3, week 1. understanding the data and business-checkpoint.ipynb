{
 "cells": [
  {
   "cell_type": "markdown",
   "metadata": {},
   "source": [
    "This notebook purpose: Research with data  \n",
    "* Understand the business  \n",
    "* Understand the problem  \n",
    "* Find one of the key problems (Basic stats)\n",
    "\n"
   ]
  },
  {
   "cell_type": "markdown",
   "metadata": {},
   "source": [
    "I selected this dataset last week. [Breast Cancer Wisconsin (Diagnostic) Data Set](https://www.kaggle.com/uciml/breast-cancer-wisconsin-data)  \n",
    "The other options can be found [here](https://docs.google.com/document/d/1YCuJsHgygPVuPIDFq_8RLVFFSw5ihU81y3ssbJKaKGQ/edit)  "
   ]
  },
  {
   "cell_type": "markdown",
   "metadata": {},
   "source": [
    "Table of contents\n",
    "* [Understanding-the-business](#Understanding-the-business)\n",
    "    * [This-dataset](#This-dataset)\n",
    "    * [First-usage-of-this-dataset:-1992](#First-usage-of-this-dataset:-1992)"
   ]
  },
  {
   "cell_type": "markdown",
   "metadata": {},
   "source": [
    "# Understanding the business"
   ]
  },
  {
   "cell_type": "markdown",
   "metadata": {},
   "source": [
    "In this case the \"business\" is the University of Wisconsin"
   ]
  },
  {
   "cell_type": "markdown",
   "metadata": {},
   "source": [
    "<hr>"
   ]
  },
  {
   "cell_type": "markdown",
   "metadata": {},
   "source": [
    "### This dataset"
   ]
  },
  {
   "cell_type": "markdown",
   "metadata": {},
   "source": [
    "The information about this dataset can be found here: https://archive.ics.uci.edu/ml/datasets/Breast+Cancer+Wisconsin+%28Diagnostic%29\n",
    "\n",
    "Features are computed from a digitized image of a fine needle aspirate (FNA) of a breast mass. They describe characteristics of the cell nuclei present in the image. A few of the images can be found at [Web Link](http://pages.cs.wisc.edu/~street/images/)"
   ]
  },
  {
   "cell_type": "markdown",
   "metadata": {},
   "source": [
    "<hr>"
   ]
  },
  {
   "cell_type": "markdown",
   "metadata": {},
   "source": [
    "### First usage of this dataset: __1992__  "
   ]
  },
  {
   "cell_type": "markdown",
   "metadata": {},
   "source": [
    "First usage of this dataset: __1992__  \n",
    "[W.N. Street, W.H. Wolberg and O.L. Mangasarian. Nuclear feature extraction for breast tumor diagnosis. IS&T/SPIE 1993 International Symposium on Electronic Imaging: Science and Technology, volume 1905, pages 861-870, San Jose, CA, 1993.](https://www.researchgate.net/publication/2512520_Nuclear_Feature_Extraction_For_Breast_Tumor_Diagnosis)  \n",
    "        \n",
    "        Abstract\n",
    "Interactive **image processing techniques** along with a **linear-programming-based inductive classifier**, have been used to create a highly accurate system for diagnosis of brest tumors. A **small fraction of a fine needle aspirate slide is seleceted and digitized**. With an interactive interface, *the user initializes active contour models. __known as snakes__, near the __boudaries of a set of cell nuclei__*. The customized snakes are deformed to the exact shape of the nuclei. This allows for precise, automated analysis of nuclear size, shape and texture. Then such features are computed for each nucleaus, and the mean value, largest (or \"worst\") value and standard error of each feature are found over the range of isolated cells.  \n",
    "        After 569 images were analyzed in this fashion, different combinations of features were tested to find those which best separate benign from malignant samples. Ten-fold cross-validation mean texture, worst area and worst smoothness. This represents an improvement over the best diagnostic results in the medical literature. **The system is currently in use at the University of Wisconsin Hospitals**. The same feature set has also been utilized in the muvh more difficult task of predicting distant recurrence of malignancy in patients, resulting in an accuracy of 86%.\n",
    "        \n",
    "        "
   ]
  },
  {
   "cell_type": "markdown",
   "metadata": {},
   "source": [
    "Questions  \n",
    "1. What's the backhround of the authors?\n",
    "2. What's the arclenght of a closed curve? (The energy function is defined to minimize it)"
   ]
  },
  {
   "cell_type": "markdown",
   "metadata": {},
   "source": [
    "# Load data"
   ]
  },
  {
   "cell_type": "code",
   "execution_count": 2,
   "metadata": {},
   "outputs": [],
   "source": [
    "import pandas as pd"
   ]
  },
  {
   "cell_type": "code",
   "execution_count": 3,
   "metadata": {},
   "outputs": [],
   "source": [
    "df = pd.read_csv('data/datasets_180_408_data.csv')"
   ]
  },
  {
   "cell_type": "code",
   "execution_count": 7,
   "metadata": {},
   "outputs": [],
   "source": [
    "del df['Unnamed: 32']"
   ]
  },
  {
   "cell_type": "markdown",
   "metadata": {},
   "source": [
    "Attribute Information:\n",
    "\n",
    "1) ID number  \n",
    "2) Diagnosis (M = malignant, B = benign)  \n",
    "3-32)  \n",
    "\n",
    "Ten real-valued features are computed for each cell nucleus:  \n",
    "\n",
    "a) radius (mean of distances from center to points on the perimeter)  \n",
    "b) texture (standard deviation of gray-scale values)  \n",
    "c) perimeter  \n",
    "d) area  \n",
    "e) smoothness (local variation in radius lengths)  \n",
    "f) compactness (perimeter^2 / area - 1.0)  \n",
    "g) concavity (severity of concave portions of the contour)  \n",
    "h) concave points (number of concave portions of the contour)  \n",
    "i) symmetry  \n",
    "j) fractal dimension (\"coastline approximation\" - 1)  \n",
    "\n",
    "The mean, standard error and \"worst\" or largest (mean of the three largest values) of these features were computed for each image, resulting in 30 features. For instance, field 3 is Mean Radius, field 13 is Radius SE, field 23 is Worst Radius.\n",
    "\n",
    "All feature values are recoded with four significant digits.\n",
    "\n",
    "Missing attribute values: none"
   ]
  },
  {
   "cell_type": "markdown",
   "metadata": {},
   "source": [
    "### Own research (Google scholar)\n",
    "radious importance  \n",
    "textura importance  \n",
    "perimeter importance  \n",
    "area importance  \n",
    "smoothness importance  \n",
    "compactness importance  \n",
    "concavity images and importance  \n",
    "concave points drawing and importance  \n",
    "symmetry image and importance  \n",
    "fractal dimension meaning and importance  "
   ]
  },
  {
   "cell_type": "code",
   "execution_count": null,
   "metadata": {},
   "outputs": [],
   "source": []
  }
 ],
 "metadata": {
  "kernelspec": {
   "display_name": "Python 3",
   "language": "python",
   "name": "python3"
  },
  "language_info": {
   "codemirror_mode": {
    "name": "ipython",
    "version": 3
   },
   "file_extension": ".py",
   "mimetype": "text/x-python",
   "name": "python",
   "nbconvert_exporter": "python",
   "pygments_lexer": "ipython3",
   "version": "3.7.7"
  }
 },
 "nbformat": 4,
 "nbformat_minor": 4
}
